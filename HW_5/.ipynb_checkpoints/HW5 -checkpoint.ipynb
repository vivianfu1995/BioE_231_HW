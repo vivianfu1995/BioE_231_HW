{
 "cells": [
  {
   "cell_type": "markdown",
   "metadata": {},
   "source": [
    "# HW5 BioE231"
   ]
  },
  {
   "cell_type": "code",
   "execution_count": 52,
   "metadata": {},
   "outputs": [],
   "source": [
    "YES1 = '''\n",
    "> YES\n",
    "GGGCGACCCUGAUGAGCUUGAGUUUAGCUCGUCACUGUCCAGGUUCAAUCAGGCGAAACGGUGAAAGCCGUAGGUUGCCC'''\n",
    "NOT1 = '''\n",
    "> NOT \n",
    "GGCAGGUACAUACAGCUGAUGAGUCCCAAAUAGGACGAAACGCGACACACACCACUAAACCGUGCAGUGUUUUGCGUCCUGUAUUCCACUGC'''\n",
    "AND1 = '''\n",
    "> AND \n",
    "GGGCGACCCUGAUGAGCUUGGUUUAGUAUUUACAGCUCCAUACAUGAGGUGUUAUCCCUAUGCAAGUUCGAUCAGGCGAAACGGUGAAAGCCGUAGGUUGCCCAGAGACAAU'''\n",
    "OR1 = '''\n",
    "> OR\n",
    "GGGCGACCCUGAUGAGCUUGGUUGAGUAUUUACAGCUCCAUACAUGAGGUGUUCUCCCUACGCAAGUUCGAUCAGGCGAAACGGUGAAAGCCGUAGGUUGCCC'''\n",
    "      \n",
    "seqs = {'YES1':YES1, 'NOT1':NOT1, 'AND1': AND1, 'OR1':OR1}"
   ]
  },
  {
   "cell_type": "markdown",
   "metadata": {},
   "source": [
    "| riboswitch  name \t| OBS-1  start \t| OBS-1 end \t| OBS-2 start \t| OBS-2 end \t| Red1 start \t| Red1 end \t| Red2 start \t| Red2 end \t|\n",
    "|------------------\t|--------------\t|-----------\t|-------------\t|-----------\t|------------\t|----------\t|------------\t|----------\t|\n",
    "| YES-1            \t| 26           \t| 47        \t| N/A         \t| N/A       \t| 16         \t| 21       \t| 49         \t| 54       \t|\n",
    "| NOT-1            \t| 44           \t| 66        \t| N/A         \t| N/A       \t| 40         \t| 43       \t| 74         \t| 77       \t|\n",
    "| AND-1            \t| 30           \t| 45        \t| 49          \t| 64        \t| 16         \t| 23       \t| 70         \t| 77       \t|\n",
    "| OR-1             \t| 27           \t| 46        \t| 47          \t| 66        \t| 16         \t| 26       \t| 67         \t| 77       \t|\n"
   ]
  },
  {
   "cell_type": "code",
   "execution_count": 53,
   "metadata": {
    "scrolled": true
   },
   "outputs": [
    {
     "name": "stdout",
     "output_type": "stream",
     "text": [
      "YES1\n",
      "> YES\n",
      "GGGCGACCCUGAUGAGCUUGAGUUUAGCUCGUCACUGUCCAGGUUCAAUCAGGCGAAACGGUGAAAGCCGUAGGUUGCCC\n",
      "((((((((.(((((((((.......))))))))).((.((.(((...))).))))..(((((....))))).)))))))) (-33.00)\n",
      "\n",
      "NOT1\n",
      "> NOT\n",
      "GGCAGGUACAUACAGCUGAUGAGUCCCAAAUAGGACGAAACGCGACACACACCACUAAACCGUGCAGUGUUUUGCGUCCUGUAUUCCACUGC\n",
      ".((((....((((((.......((((......))))...((((((.((((..(((......)))..)))).)))))).))))))....)))) (-28.10)\n",
      "\n",
      "AND1\n",
      "> AND\n",
      "GGGCGACCCUGAUGAGCUUGGUUUAGUAUUUACAGCUCCAUACAUGAGGUGUUAUCCCUAUGCAAGUUCGAUCAGGCGAAACGGUGAAAGCCGUAGGUUGCCCAGAGACAAU\n",
      "((((((((((((((((((((...(((.....(((.(((.......))).))).....)))..))))))).))))).....(((((....))))).))))))))......... (-42.10)\n",
      "\n",
      "OR1\n",
      "> OR\n",
      "GGGCGACCCUGAUGAGCUUGGUUGAGUAUUUACAGCUCCAUACAUGAGGUGUUCUCCCUACGCAAGUUCGAUCAGGCGAAACGGUGAAAGCCGUAGGUUGCCC\n",
      "((((((((((((((((((((((.(((.....(((.(((.......))).))).)))...)).))))))).))))).....(((((....))))).)))))))) (-40.00)\n",
      "\n"
     ]
    }
   ],
   "source": [
    "# The following graphs are generated using the default parameters in the RNAfold\n",
    "import subprocess\n",
    "for (name,seq) in seqs.items():\n",
    "    p = subprocess.run(['RNAfold'],\n",
    "                        input = bytes(seq,'ascii'),\n",
    "                        stdout=subprocess.PIPE, \n",
    "                        stderr=subprocess.PIPE, check=True)\n",
    "    print(name)\n",
    "    print(p.stdout.decode())\n"
   ]
  },
  {
   "cell_type": "markdown",
   "metadata": {},
   "source": [
    "Using the default parameters in the RNAfold, the following structures for the riboswitch logic gates are generated:"
   ]
  },
  {
   "cell_type": "markdown",
   "metadata": {},
   "source": [
    "# Under default parameters:\n",
    "## YES1\n",
    "![YES1-default](YES1-default.png)\n",
    "## NOT1\n",
    "![NOT1-default](NOT1-default.png)\n",
    "## AND1\n",
    "![AND1-default](AND1-default.png)\n",
    "## OR1!\n",
    "![OR1-default](OR1-default.png)\n"
   ]
  },
  {
   "cell_type": "markdown",
   "metadata": {},
   "source": [
    "From the inserted graphs above, we can see that the structures of the RNA do not match to those on the paper using the default parameters in RNAfold. In the paper, the author mentions that the algorithm used to construct the RNA structures is a function of temperature. In this case, the unmatched structures could be due to the use of default temperature 37°C. Through trials and errors, I found that at 5°C, the structures match to those on the paper. The temperature parameter is then modified in the following cell to account for this."
   ]
  },
  {
   "cell_type": "code",
   "execution_count": 54,
   "metadata": {},
   "outputs": [
    {
     "name": "stdout",
     "output_type": "stream",
     "text": [
      "YES1\n",
      "> YES\n",
      "GGGCGACCCUGAUGAGCUUGAGUUUAGCUCGUCACUGUCCAGGUUCAAUCAGGCGAAACGGUGAAAGCCGUAGGUUGCCC\n",
      "((((((((((((((((((((.(..(((.......))).)))))))).))))).....(((((....))))).)))))))) (-53.19)\n",
      "\n",
      "NOT1\n",
      "> NOT\n",
      "GGCAGGUACAUACAGCUGAUGAGUCCCAAAUAGGACGAAACGCGACACACACCACUAAACCGUGCAGUGUUUUGCGUCCUGUAUUCCACUGC\n",
      ".((((....(((((((....).((((......))))...((((((.((((..(((......)))..)))).)))))).))))))....)))) (-51.78)\n",
      "\n",
      "AND1\n",
      "> AND\n",
      "GGGCGACCCUGAUGAGCUUGGUUUAGUAUUUACAGCUCCAUACAUGAGGUGUUAUCCCUAUGCAAGUUCGAUCAGGCGAAACGGUGAAAGCCGUAGGUUGCCCAGAGACAAU\n",
      "((((((((((((((((((((...(((.....(((.(((.......))).))).....)))..))))))).))))).....(((((....))))).))))))))......... (-70.09)\n",
      "\n",
      "OR1\n",
      "> OR\n",
      "GGGCGACCCUGAUGAGCUUGGUUGAGUAUUUACAGCUCCAUACAUGAGGUGUUCUCCCUACGCAAGUUCGAUCAGGCGAAACGGUGAAAGCCGUAGGUUGCCC\n",
      "((((((((((((((((((((((.(.(.....(((.(((.......))).)))...).).)).))))))).))))).....(((((....))))).)))))))) (-66.21)\n",
      "\n"
     ]
    }
   ],
   "source": [
    "\n",
    "import subprocess\n",
    "for (name,seq) in seqs.items():\n",
    "    p = subprocess.run(['RNAfold','--temp=5'],\n",
    "                        input = bytes(seq,'ascii'),\n",
    "                        stdout=subprocess.PIPE, \n",
    "                        stderr=subprocess.PIPE, check=True)\n",
    "    print(name)\n",
    "    print(p.stdout.decode())"
   ]
  },
  {
   "cell_type": "markdown",
   "metadata": {},
   "source": [
    "# At Temp = 5 °C:\n",
    "## YES1\n",
    "![YES1-5](YES1-5.png)\n",
    "## NOT1\n",
    "![NOT1-5](NOT1-5.png)\n",
    "## AND1\n",
    "![AND1-5](AND1-5.png)\n",
    "## OR1!\n",
    "![OR1-5](OR1-5.png)\n"
   ]
  },
  {
   "cell_type": "code",
   "execution_count": 55,
   "metadata": {},
   "outputs": [
    {
     "name": "stdout",
     "output_type": "stream",
     "text": [
      "YES1 OBS1\n",
      ".........................xxxxxxxxxxxxxxxxxxxxxx........................................\n",
      "NOT1 OBS1\n",
      "...........................................xxxxxxxxxxxxxxxxxxxxxxx..................................\n",
      "OR1 OBS1\n",
      "..........................xxxxxxxxxxxxxxxxxxxx...............................................................\n",
      "OR1 OBS2\n",
      "..............................................xxxxxxxxxxxxxxxxxxxx...........................................\n",
      "OR1 BOTH OBS\n",
      "..........................xxxxxxxxxxxxxxxxxxxxxxxxxxxxxxxxxxxxxxxx...........................................\n",
      "AND1 OBS1\n",
      ".............................xxxxxxxxxxxxxxxx...........................................................................\n",
      "AND1 OBS2\n",
      "................................................xxxxxxxxxxxxxxxx........................................................\n",
      "AND1 BOTH OBS\n",
      ".............................xxxxxxxxxxxxxxxx...xxxxxxxxxxxxxxxx........................................................\n",
      "\n",
      "The above constraints for YES1, NOT1, AND1, and OR1 are then stored as txt files\n"
     ]
    }
   ],
   "source": [
    "BPpositions = {'YES1':[(26,47),(None,None),(16,21),(49,54)],\n",
    "               'NOT1':[(44,66),(None,None),(40,43),(74,77)],\n",
    "               'AND1':[(30,45),(49,64),(16,23),(70,77)],\n",
    "               'OR1': [(27,46),(47,66),(16,26),(67,77)]}\n",
    "\n",
    "# Use a dot (“.”) for every unconstrained base, and a lower-case x for every base that you want to prevent from\n",
    "# pairing. That is to say, put an x at every base spanning the blue OBS region.\n",
    "\n",
    "def make_constraints(name,OBSNUM):\n",
    "    seq = seqs[name]\n",
    "    position = 1\n",
    "    constraint = ''\n",
    "    OBS1_start = BPpositions[name][0][0]\n",
    "    OBS1_end = BPpositions[name][0][1]\n",
    "    OBS2_start = BPpositions[name][1][0]\n",
    "    OBS2_end = BPpositions[name][1][1]\n",
    "    OBS = seq[OBS1_start:OBS1_end + 1]\n",
    "\n",
    "    for base in seq:  \n",
    "        # create constrainst for OBS1 only\n",
    "        if OBSNUM == 1:\n",
    "            if position>=OBS1_start and position<=OBS1_end:\n",
    "                c = 'x'\n",
    "                constraint += c\n",
    "                position += 1\n",
    "            else:\n",
    "                c = '.'\n",
    "                constraint += c\n",
    "                position += 1\n",
    "         # create constrainst for OBS2 only\n",
    "        elif OBSNUM == 2:\n",
    "            if position>=OBS2_start and position<=OBS2_end:\n",
    "                c = 'x'\n",
    "                constraint += c\n",
    "                position += 1\n",
    "            else:\n",
    "                c = '.'\n",
    "                constraint += c\n",
    "                position += 1\n",
    "         # create constrainst for both OBS1 and OBS2 \n",
    "        else:\n",
    "            if (position>=OBS1_start and position<=OBS1_end) or (position>=OBS2_start and position<=OBS2_end):\n",
    "                c = 'x'\n",
    "                constraint += c\n",
    "                position += 1\n",
    "            else:\n",
    "                c = '.'\n",
    "                constraint += c\n",
    "                position += 1\n",
    "        \n",
    "    return(constraint)\n",
    "\n",
    "print('YES1 OBS1')\n",
    "print(make_constraints('YES1',1))\n",
    "print('NOT1 OBS1')\n",
    "print(make_constraints('NOT1',1))\n",
    "\n",
    "print('OR1 OBS1')\n",
    "print(make_constraints('OR1',1))\n",
    "print('OR1 OBS2')\n",
    "print(make_constraints('OR1',2))\n",
    "print('OR1 BOTH OBS')\n",
    "print(make_constraints('OR1',3))\n",
    "\n",
    "print('AND1 OBS1')\n",
    "print(make_constraints('AND1',1))\n",
    "print('AND1 OBS2')\n",
    "print(make_constraints('AND1',2))\n",
    "print('AND1 BOTH OBS')\n",
    "print(make_constraints('AND1',3))\n",
    "print()\n",
    "print('The above constraints for YES1, NOT1, AND1, and OR1 are then stored as txt files')"
   ]
  },
  {
   "cell_type": "code",
   "execution_count": 56,
   "metadata": {
    "scrolled": true
   },
   "outputs": [
    {
     "name": "stdout",
     "output_type": "stream",
     "text": [
      "YES1 with constraints for OBS1\n",
      "GGGCGACCCUGAUGAGCUUGAGUUUAGCUCGUCACUGUCCAGGUUCAAUCAGGCGAAACGGUGAAAGCCGUAGGUUGCCC\n",
      "((((((((.......((((((...........................))))))...(((((....))))).)))))))) (-24.50)\n",
      "\n",
      "NOT1 with constraints for OBS1\n",
      "GGCAGGUACAUACAGCUGAUGAGUCCCAAAUAGGACGAAACGCGACACACACCACUAAACCGUGCAGUGUUUUGCGUCCUGUAUUCCACUGC\n",
      ".((((....((((((..((((.((((......))))(((((((.......................))))))).))))))))))....)))) (-20.80)\n",
      "\n"
     ]
    }
   ],
   "source": [
    "def structure_under_constraints(txt):\n",
    "    f = open(txt,'r')\n",
    "    constraints = f.read()\n",
    "    p = subprocess.run(['RNAfold', '--constraint'],\n",
    "                        input = bytes(constraints,'ascii'),\n",
    "                        stdout=subprocess.PIPE, \n",
    "                        stderr=subprocess.PIPE, check=True)\n",
    "    return(p.stdout.decode())\n",
    "\n",
    "print('YES1 with constraints for OBS1')\n",
    "print(structure_under_constraints('YES-1_constraints.txt'))\n",
    "\n",
    "print('NOT1 with constraints for OBS1')\n",
    "print(structure_under_constraints('NOT-1_constraints.txt'))"
   ]
  },
  {
   "attachments": {},
   "cell_type": "markdown",
   "metadata": {},
   "source": [
    "## OBS unbound & bound YES1 \n",
    "![NOT1-constraints](NOT1-constraints.png)\n",
    "## OBS unbound & bound NOT1\n",
    "![YES1-constraints](YES1-constraints.png)\n"
   ]
  },
  {
   "cell_type": "markdown",
   "metadata": {},
   "source": [
    "After adding OBS constraints for YES1 and NOT1, we see that both OBS bound conformations resemble to the self-cleaving forms presented on the paper. As the OBS are bound with DNA oligonucleotides, the red regions align with each other and become ready for self cleaving."
   ]
  },
  {
   "cell_type": "code",
   "execution_count": 57,
   "metadata": {},
   "outputs": [
    {
     "name": "stdout",
     "output_type": "stream",
     "text": [
      "AND1 with constraints for OBS1\n",
      "GGGCGACCCUGAUGAGCUUGGUUUAGUAUUUACAGCUCCAUACAUGAGGUGUUAUCCCUAUGCAAGUUCGAUCAGGCGAAACGGUGAAAGCCGUAGGUUGCCCAGAGACAAU\n",
      "((((((((((((((((((((..........................(((.(....))))...))))))).))))).....(((((....))))).))))))))......... (-33.90)\n",
      "\n",
      "AND1 with constraints for OBS2\n",
      "GGGCGACCCUGAUGAGCUUGGUUUAGUAUUUACAGCUCCAUACAUGAGGUGUUAUCCCUAUGCAAGUUCGAUCAGGCGAAACGGUGAAAGCCGUAGGUUGCCCAGAGACAAU\n",
      "(((((((((((((((((((((...(((.......))))))........................))))).))))).....(((((....))))).))))))))......... (-29.60)\n",
      "\n",
      "AND1 with constraints for both OBS\n",
      "GGGCGACCCUGAUGAGCUUGGUUUAGUAUUUACAGCUCCAUACAUGAGGUGUUAUCCCUAUGCAAGUUCGAUCAGGCGAAACGGUGAAAGCCGUAGGUUGCCCAGAGACAAU\n",
      "((((((((((((((((((..............................................))))).))))).....(((((....))))).))))))))......... (-27.64)\n",
      "\n",
      "OR1 with constraints for OBS1\n",
      "GGGCGACCCCUGAUGGCUUGGUUGAGUAUUUACAGCUCCAUACAUGAGGUGUUCUCCCUACGCAAGUUCGAUCAGGCGAAACGGUGAAAGCCGUAGGUUGCCC\n",
      "((((((((((((((((((((((.(((...........................)))...)).))))))..))))))....(((((....))))).)))))))) (-32.10)\n",
      "\n",
      "OR1 with constraints for OBS2\n",
      "GGGCGACCCCUGAUGGCUUGGUUGAGUAUUUACAGCUCCAUACAUGAGGUGUUCUCCCUACGCAAGUUCGAUCAGGCGAAACGGUGAAAGCCGUAGGUUGCCC\n",
      "((((((((.....(.(((((((((((........................................))))))))))).).(((((....))))).)))))))) (-29.39)\n",
      "\n",
      "OR1 with constraints for both OBS\n",
      "GGGCGACCCCUGAUGGCUUGGUUGAGUAUUUACAGCUCCAUACAUGAGGUGUUCUCCCUACGCAAGUUCGAUCAGGCGAAACGGUGAAAGCCGUAGGUUGCCC\n",
      "((((((((.....(.(((((((((((........................................))))))))))).).(((((....))))).)))))))) (-29.39)\n",
      "\n"
     ]
    }
   ],
   "source": [
    "print('AND1 with constraints for OBS1')\n",
    "print(structure_under_constraints('AND_OBS1.txt'))\n",
    "print('AND1 with constraints for OBS2')\n",
    "print(structure_under_constraints('AND_OBS2.txt'))\n",
    "print('AND1 with constraints for both OBS')\n",
    "print(structure_under_constraints('AND_both_OBS.txt'))\n",
    "\n",
    "print('OR1 with constraints for OBS1')\n",
    "print(structure_under_constraints('OR1_OBS1.txt'))\n",
    "print('OR1 with constraints for OBS2')\n",
    "print(structure_under_constraints('OR1_OBS2.txt'))\n",
    "print('OR1 with constraints for both OBS')\n",
    "print(structure_under_constraints('OR_both_OBS.txt'))"
   ]
  },
  {
   "attachments": {},
   "cell_type": "markdown",
   "metadata": {},
   "source": [
    "## AND1 Logic gates \n",
    "![AND1-constraints](AND1-constraints.png)\n",
    "## OR1 Logic gates \n",
    "![OR1-constraints](OR1-constraints.png)\n"
   ]
  }
 ],
 "metadata": {
  "kernelspec": {
   "display_name": "Python 3",
   "language": "python",
   "name": "python3"
  },
  "language_info": {
   "codemirror_mode": {
    "name": "ipython",
    "version": 3
   },
   "file_extension": ".py",
   "mimetype": "text/x-python",
   "name": "python",
   "nbconvert_exporter": "python",
   "pygments_lexer": "ipython3",
   "version": "3.6.5"
  }
 },
 "nbformat": 4,
 "nbformat_minor": 2
}
