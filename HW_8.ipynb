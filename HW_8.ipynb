{
 "cells": [
  {
   "cell_type": "markdown",
   "metadata": {},
   "source": [
    "# LAB8\n",
    "## Running SPAdes\n",
    "- Why do we expect short reads to produce a more fragmented assembly than long reads? \n",
    "    - The assembly produced by using short reads would be more fragmented because more contigs are required. The assembly would be more broken up and fragmented. Longer reads, on the other hand, would be more coherent and are unlikely to result in a broken up assembly.  \n",
    "    \n",
    "- Why does a single-molecule sequencing like PacBio have a higher error rate than Illumina?\n",
    "    - PacBio(single molecule sequencing) tends to have a higher error rate than short reads because the reads are longer, which makes the process of examining the data inefficient. Consequently, Pacbio is expected to be less accurate than illumina. One way to compensate for the high error rate is to get multiple reads from the same template.  \n",
    "\n",
    "The SPAdes command is shown below:\n",
    "\n",
    "    spades.py -1 /data/lab8/illumina_reads_R1.fastq -2 /data/lab8/illumina_reads_R2.fastq --pacbio /data/lab8/pacbio_reads.fastq -t 1 -o /home/be131-05/LAB8/illumina_concatenated"
   ]
  },
  {
   "cell_type": "markdown",
   "metadata": {},
   "source": [
    "# LAB9\n",
    "## Generate assembly statistics\n",
    "Running the assembly-stats program:\n",
    "\n",
    "    be131-05@meowth:~/LAB8/illumina_concatenated$ assembly-stats contigs.fasta scaffolds.fasta\n",
    "    \n",
    "    stats for contigs.fasta\n",
    "    sum = 6678635, n = 176, ave = 37946.79, largest = 414008\n",
    "    N50 = 234690, n = 11\n",
    "    N60 = 202142, n = 14\n",
    "    N70 = 154232, n = 18\n",
    "    N80 = 103367, n = 23\n",
    "    N90 = 81286, n = 30\n",
    "    N100 = 128, n = 176\n",
    "    N_count = 0\n",
    "    Gaps = 0\n",
    "    -------------------------------------------------------------------------------\n",
    "    stats for scaffolds.fasta\n",
    "    sum = 6678655, n = 174, ave = 38383.07, largest = 414008\n",
    "    N50 = 234690, n = 11\n",
    "    N60 = 202142, n = 14\n",
    "    N70 = 154232, n = 18\n",
    "    N80 = 103367, n = 23\n",
    "    N90 = 81821, n = 30\n",
    "    N100 = 128, n = 174\n",
    "    N_count = 20\n",
    "    Gaps = 2\n",
    "\n",
    "The results are summarized in the following table. \n",
    "\n",
    "|  -              | Contigs   | Scaffolds   |\n",
    "|:---------------:|:---------:|:-----------:|\n",
    "| Total Length    |  6678635  |   6678655   |\n",
    "| Number          |  176      |   174       |\n",
    "| N50             |   234690  |   234690    |"
   ]
  },
  {
   "cell_type": "markdown",
   "metadata": {},
   "source": [
    "- Why is N50 is useful statistic to calculate? Why not just list the mean or median contig length? In your assembly, are scaffolds longer than contigs, or are scaffolds approximately equal to contigs?\n",
    "    - N50 describes the completeness of the genome assembly and shows the distribution of the contig lengths. The N50 is defined as the minimum contig length needed to cover 50% of the genome. It means, half of the genome sequence is in contigs larger than or equal the N50 contig size. It is useful in genomic statistic and is more meaningful than mean/median because it has greater weight on longer contigs. In reality, some contigs might be too short and thus are not very useful since it's not desirable to fill up an assembly with many overly short sequences. Researchers sometimes choose to exclude the overly short contigs from an assembly. In this case, using a mean or median to describe an assembly would be inaccurate and misleading.  \n",
    "    - The total length of scaffolds are approximately equal to contigs, which means that the assembler has no additional information that could be used to determine the order and orientation of contigs in a scaffold."
   ]
  },
  {
   "cell_type": "markdown",
   "metadata": {},
   "source": [
    "## Extra credit\n",
    "Extract the coverage from each FASTA header and plot a histogram of coverage for all contigs in your assembly."
   ]
  },
  {
   "cell_type": "code",
   "execution_count": 15,
   "metadata": {},
   "outputs": [
    {
     "name": "stdout",
     "output_type": "stream",
     "text": [
      "[7.740928, 10.006665, 7.539874, 9.114046, 9.241629, 8.918606, 8.126053, 8.706677, 7.455302, 7.139043, 8.64251, 7.910328, 6.973549, 8.264545, 7.418715, 8.846256, 8.57711, 9.584186, 8.773953, 7.418265, 7.113839, 8.039997, 10.081286, 7.785886, 7.854012, 8.146401, 7.136158, 8.555536, 7.722379, 9.311795, 8.238385, 9.074883, 7.372789, 7.420957, 6.46957, 8.116505, 7.61281, 7.993083, 7.424264, 7.895898, 7.608171, 7.601905, 7.314205, 8.45544, 14.119172, 10.363252, 5.239566, 7.030905, 5.388827, 0.708005, 9.625, 6.539275, 0.427495, 4.630975, 0.934599, 0.812236, 0.803797, 6.890063, 0.900634, 0.898649, 8.990244, 0.98005, 0.97878, 0.929919, 0.937669, 0.834688, 0.9375, 0.923706, 0.937158, 0.958217, 0.958217, 0.944134, 1.002801, 0.72191, 0.974576, 0.977337, 0.864023, 0.982906, 0.985714, 0.933526, 0.742775, 0.94186, 1.008772, 0.918129, 1.008798, 0.692082, 0.970588, 1.02071, 0.946588, 0.952381, 1.026866, 0.855856, 1.638554, 1.039275, 1.021148, 0.740181, 1.045455, 0.936364, 0.681818, 0.772036, 0.929664, 0.642202, 2.276074, 1.0, 0.92638, 0.769939, 1.0, 0.969231, 0.963077, 0.849231, 1.055556, 1.006173, 0.987654, 0.728395, 1.065015, 0.650155, 0.975155, 0.928571, 1.071651, 1.053125, 0.98125, 0.9279, 0.782334, 0.702532, 1.092063, 0.879365, 0.869427, 0.859425, 0.84345, 1.092949, 0.877814, 0.836013, 1.093548, 0.909677, 0.841935, 1.135922, 1.11039, 0.714286, 0.644951, 0.918301, 0.859477, 0.787582, 0.84918, 0.836066, 1.082237, 1.033003, 0.838284, 0.688742, 0.930233, 6.848, 6.79803, 11.80597, 6.305085, 3.566265, 13.716312, 2.442029, 25.487805, 13.710526, 17.648148, 37.012821, 4.408451, 8.758065, 6.785714, 2.042553, 13.767442, 2.692308, 8.297297, 4.84375, 17.055556, 14.785714, 7.071429, 5.714286, 4.214286, 17.0, 1536.0, 150.0]\n",
      "\n",
      "The mean coverage of contigs is, 14.047804437500002\n"
     ]
    }
   ],
   "source": [
    "# the coverage at the fifth position in the first line of fasta\n",
    "from Bio import SeqIO\n",
    "import matplotlib.pyplot as plt \n",
    "import numpy as np\n",
    "records = SeqIO.parse('contigs.fasta','fasta')\n",
    "coverages = []\n",
    "for record in records:\n",
    "    coverage = float(record.id.split('_')[5])\n",
    "    coverages.append(coverage)\n",
    "print(coverages)\n",
    "print()\n",
    "print('The mean coverage of contigs is,',np.mean(coverages))"
   ]
  },
  {
   "cell_type": "markdown",
   "metadata": {},
   "source": [
    "We can see that the last two coverages are much larger compared to the rest of the covergages, we exlude these two when plotting the histogram."
   ]
  },
  {
   "cell_type": "code",
   "execution_count": 16,
   "metadata": {},
   "outputs": [
    {
     "data": {
      "image/png": "[encoded data removed]",
      "text/plain": [
       "<Figure size 432x288 with 1 Axes>"
      ]
     },
     "metadata": {
      "needs_background": "light"
     },
     "output_type": "display_data"
    }
   ],
   "source": [
    "plt.hist(coverages[:-2],50)\n",
    "plt.xlabel('Coverages')\n",
    "plt.ylabel('Frequency')\n",
    "plt.show()"
   ]
  },
  {
   "cell_type": "markdown",
   "metadata": {},
   "source": [
    "- Is coverage uniformly distributed? Does it look Gaussian? Is it bimodal or trimodal?\n",
    "    - The coverage is not a uniform distribution or a Gaussian distribution. It is a bimodal distribution with one peak at 1 and a second peak at ~7. \n",
    "- What explains the presence of contigs with coverage an integer multiple of the mean coverage?\n",
    "    - The mean coverage is determined to be 14. We do not observe coverages that are multiple of the mean coverage here. If we do, then it means the regions in genome are duplicated. "
   ]
  },
  {
   "cell_type": "markdown",
   "metadata": {},
   "source": [
    "## Identify the taxon from which your genome originated\n",
    "To identify your genome, you must\n",
    "\n",
    "1. scan over the entire genome to locate copies of the 16S ribosomal RNA gene, \n",
    "2. extract the 16S rRNA genes from your assembly, and \n",
    "3. compare these genes to a database of known 16S rRNA genes"
   ]
  },
  {
   "cell_type": "markdown",
   "metadata": {},
   "source": [
    "- First, run the rna_hmm3.py program on your assembled contigs to locate rRNA genes. \n",
    "     \n",
    "         be131-05@meowth:~/LAB8$ rna_hmm3.py -i contigs.fasta -o contigs.gff\n",
    "    \n",
    "- The output gff content is included here. Delete all lines within other than those containing 16S_rRNA genes.    \n",
    "    \n",
    "        ##seq_name\tmethod\tfeature\tstart\tend\tevalue\tstrand\tframe\tattribute\n",
    "        NODE_23_length_103367_cov_10.081286\trna_hmm3\trRNA\t35531\t37075\t0\t+\tNA\t16S_rRNA\n",
    "        NODE_18_length_154232_cov_9.584186\trna_hmm3\trRNA\t124542\t126086\t0\t+\tNA\t16S_rRNA\n",
    "        NODE_5_length_327223_cov_9.241629\trna_hmm3\trRNA\t46286\t47830\t0\t+\tNA\t16S_rRNA\n",
    "        NODE_6_length_298784_cov_8.918606\trna_hmm3\trRNA\t13926\t15470\t0\t+\tNA\t16S_rRNA\n",
    "        NODE_4_length_332509_cov_9.114046\trna_hmm3\trRNA\t137012\t138556\t0\t-\tNA\t16S_rRNA\n",
    "        NODE_2_length_378948_cov_10.006665\trna_hmm3\trRNA\t348500\t350044\t0\t+\tNA\t16S_rRNA\n",
    "    \n",
    "    \n",
    "- Next, use bedtools getfasta to extract nucleic acid sequences of the 16S rRNA genes from\n",
    "your assembly. You will need to specify the path to contigs.fasta with -fi and the path to the\n",
    "GFF file you obtained above, with -bed. The output will be in FASTA format.\n",
    "\n",
    "        be131-05@meowth:~/LAB8$ bedtools getfasta -fi contigs.fasta -bed contigs.gff > 16S_rRNA.fasta\n",
    "\n",
    "- Using the Ribosomal Database Project’s SeqMatch tool, the sequences in the output gff files are examined. One of the results is included here. \n",
    "\n",
    "        ##seq_name\t\n",
    "        NODE_23_length_103367_cov_10.081286: \n",
    "        \n",
    "        rootrank Root (20) (match sequences) \n",
    "        domain Bacteria (20) \n",
    "          phylum \"Proteobacteria\" (20) \n",
    "             class Gammaproteobacteria (20) \n",
    "                order Pseudomonadales (20) \n",
    "                   family Pseudomonadaceae (20) \n",
    "                      genus Pseudomonas (20) \n",
    "                        S000407513     not_calculated 0.984 1186  Pseudomonas sp. MFY32; AY331343\n",
    "                        S000891983     not_calculated 0.984 1296  Pseudomonas sp. II-39; DQ977710\n",
    "                        S001098708     not_calculated 0.985 1234  Pseudomonas lini; REG21; EU647700\n",
    "                        S001098710     not_calculated 0.986 1243  Pseudomonas mediterranea; REG60; EU647702\n",
    "                        S001795896     not_calculated 0.984 1278  Pseudomonas sp. Lc10-2; GU244354\n",
    "                        S002958599     not_calculated 0.989 1337  Pseudomonas fluorescens; hp13; JN637318\n",
    "                        S003278370     not_calculated 1.000 1270  Pseudomonas frederiksbergensis; rp3; JF906070\n",
    "                        S003278371     not_calculated 1.000 1270  Pseudomonas frederiksbergensis; rp13; JF906071\n",
    "                        S003278373     not_calculated 0.984 1269  Pseudomonas mandelii; rp23; JF906073\n",
    "                        S003290716     not_calculated 0.990 1251  Pseudomonas arsenicoxydans; MaBP1; JQ317810\n",
    "                        S003290717     not_calculated 0.984 1250  Pseudomonas mandelii; McBPA4; JQ317811\n",
    "                        S003290718     not_calculated 0.984 1250  Pseudomonas mandelii; McBRA2; JQ317812\n",
    "                        S003302217     not_calculated 0.989 1303  Pseudomonas lini; 40; JX122159\n",
    "                        S003616324     not_calculated 0.989 1236  Pseudomonas mandelii; BJC15-C35; JX469391\n",
    "                        S003616553     not_calculated 0.989 1228  Pseudomonas mandelii; BJC16-C1; JX483782\n",
    "                        S003745408     not_calculated 0.986 1258  Pseudomonas mandelii; Tibetlhz-57; JX827234\n",
    "                        S003789558     not_calculated 0.985 1298  Pseudomonas sp. Aza24; JQ977627\n",
    "                        S004484092     not_calculated 0.984 1241  Pseudomonas mandelii; Ge03; KR088370\n",
    "                        S004493454     not_calculated 0.987 1306  Pseudomonas fluorescens; SE02(2); KT239467\n",
    "                        S004534171     not_calculated 0.984 1246  bacterium C0074; KP177382\n",
    "\n",
    "This tool is used for all 16S rRNA sequences that we obtained previously. Although they map to different species, they all match to a common genus: Pseudomonas. This conclusion is reached since the top 20 matches of each input match to an identical genus. \n",
    "        "
   ]
  },
  {
   "cell_type": "markdown",
   "metadata": {},
   "source": [
    "## Genome annotation\n",
    "\n",
    "Upload the genome to two remote annotation services that will perform\n",
    "the annotation automatically: RAST and BASys.\n",
    "\n",
    "- Annotation from BASYs: https://www.basys.ca/server3/basys/cache/3f767cbac6f990dc1d56ab58e2f7686c/maps/index.html\n",
    "- Annotation from RAST: http://rast.nmpdr.org/seedviewer.cgi?page=Organism&organism=6666666.379375"
   ]
  },
  {
   "cell_type": "markdown",
   "metadata": {},
   "source": [
    "## Research and write-up\n",
    "\n",
    "- CRISPR-Cas9 is so hot right now. Does your genome have a CRISPR system? Can you determine where the spacer sequences originated from?\n",
    "\n",
    "\n",
    "    - CRISPR-Cas9: Clustered regularly interspaced short palindromic repeats (CRISPR) and their associated genes (cas) are essential components of an adaptive immune system that protects bacteria and archaea from viral infection. CRISPR systems contain two components: a guide RNA (gRNA or sgRNA) and a CRISPR-associated endonuclease (Cas protein). The gRNA is a short synthetic RNA composed of a scaffold sequence necessary for Cas-binding and a user-defined ∼20 nucleotide spacer that defines the genomic target to be modified. Thus, one can change the genomic target of the Cas protein by simply changing the target sequence present in the gRNA. Reference: *https://www.addgene.org/crispr/guide/*\n",
    "    \n",
    "    \n",
    "    - From this research paper (*https://www.nature.com/articles/cr20176*), we can see that Pseudomonas aeruginosa(PA) has a CRISPR system. The spacer sequences in the CRISPR system are mostly complementary to sequences located on its bacteriophage genome (the virus that  parasitizes PA). Some spacer sequences do contain mismatches. Mismatches between PA spacer sequence and corresponding sequence on viral genome was found to prevent the formation of biofilm by causing DNA damage and cell death. Spacer sequences are genetics remnants of previous invaders, which allow PA to detect and destroy bacteriophage if they return.  \n",
    "    \n",
    "\n",
    "\n",
    "\n"
   ]
  }
 ],
 "metadata": {
  "kernelspec": {
   "display_name": "Python 3",
   "language": "python",
   "name": "python3"
  },
  "language_info": {
   "codemirror_mode": {
    "name": "ipython",
    "version": 3
   },
   "file_extension": ".py",
   "mimetype": "text/x-python",
   "name": "python",
   "nbconvert_exporter": "python",
   "pygments_lexer": "ipython3",
   "version": "3.6.6"
  }
 },
 "nbformat": 4,
 "nbformat_minor": 2
}
