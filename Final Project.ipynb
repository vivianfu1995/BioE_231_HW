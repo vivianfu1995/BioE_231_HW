{
 "cells": [
  {
   "cell_type": "markdown",
   "metadata": {},
   "source": [
    "# Final project\n",
    "Partners: Vivian Fu, Jessica Wu, Snow Xu, Xinxin Mo\n",
    "## Week 1\n",
    "### Tasks:\n",
    "- Assemble your metagenome into contigs using the metaspades part of SPAdes\n",
    "- Quantify the abundance of different microbes in your metagenome\n",
    "- Plot a histogram of contig lengths from your metagenome assembly in iPython, along with the N50. \n",
    "- Summarize the results of either MetaPhlAn or One Codex\n",
    "\n",
    "Assigned sequences: 160523Alm_D16-4701_1_sequence.fastq.gz and 160523Alm_D16-4701_2_sequence"
   ]
  },
  {
   "cell_type": "markdown",
   "metadata": {},
   "source": [
    "#### 1. Assemble metagenome into contigs "
   ]
  },
  {
   "cell_type": "markdown",
   "metadata": {},
   "source": [
    "    spades.py -1 /data/metagenomes/160523Alm_D16-4701_1_sequence.fastq.gz -2 /data/metagenomes/160523Alm_D16-4701_2_sequence.fastq.gz -t 1 -p 2 -m 16 --meta -o /home/be131-05/Final Project\n",
    "\n",
    "The results for metagenome assembly are not included here since the command is still running in the terminal."
   ]
  },
  {
   "cell_type": "markdown",
   "metadata": {},
   "source": [
    "#### 2. Quantify the abundance of different microbes in your metagenome (see question 4)\n",
    "\n",
    "#### 3. Plot a histogram of contig lengths from your metagenome assembly in iPython, along with the N50."
   ]
  },
  {
   "cell_type": "code",
   "execution_count": 1,
   "metadata": {},
   "outputs": [],
   "source": [
    "# histogram of contig lengths\n",
    "# N50"
   ]
  },
  {
   "cell_type": "markdown",
   "metadata": {},
   "source": [
    "#### 4. Summarize the results from One Codex"
   ]
  },
  {
   "cell_type": "markdown",
   "metadata": {},
   "source": [
    "To quantify the abundance of different microbes in the metagenome, we use the One Codex. The command we use is shown below:\n",
    "\n",
    "    be131-05@meowth:~$ onecodex upload --forward /data/metagenomes/160523Alm_D16-4701_1_sequence.fastq.gz --reverse /data/metagenomes/160523Alm_D16-4701_2_sequence.fastq.gz\n"
   ]
  },
  {
   "cell_type": "markdown",
   "metadata": {},
   "source": [
    "The input sequences are paired-end reads. The forward file is from the 3’ end and the reverse is from the 5’ end. Identical results are observed for the forward and the reverse reads as shown below. "
   ]
  },
  {
   "cell_type": "markdown",
   "metadata": {},
   "source": [
    "![3.png](3.png)"
   ]
  },
  {
   "cell_type": "markdown",
   "metadata": {},
   "source": [
    "This is a mixed/metagenomic sample 11% of 203,616,980 reads were classified using the One Codex database. Based on the composition overview, there's no high/medium abundance species. Bacteria accounts for 23.63% of classified reads. \n",
    "There are also trace amounts of archaea, eukaryota, and viruses in this sample. This is shown in the graph below."
   ]
  },
  {
   "cell_type": "markdown",
   "metadata": {},
   "source": [
    "![1.png](1.png)"
   ]
  },
  {
   "cell_type": "markdown",
   "metadata": {},
   "source": [
    "If we take a closer look at the composition of bacteria, we can see the most abundant 3 species are Armatimonadetes bacterium (3.91%), Acidobacteria bacterium(3.83%), and Ktedonobacter racemifer (0.99%). Composition by species is shown below. "
   ]
  },
  {
   "cell_type": "markdown",
   "metadata": {},
   "source": [
    "![2.png](2.png)"
   ]
  }
 ],
 "metadata": {
  "kernelspec": {
   "display_name": "Python 3",
   "language": "python",
   "name": "python3"
  },
  "language_info": {
   "codemirror_mode": {
    "name": "ipython",
    "version": 3
   },
   "file_extension": ".py",
   "mimetype": "text/x-python",
   "name": "python",
   "nbconvert_exporter": "python",
   "pygments_lexer": "ipython3",
   "version": "3.6.6"
  }
 },
 "nbformat": 4,
 "nbformat_minor": 2
}
